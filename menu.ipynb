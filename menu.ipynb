{
 "cells": [
  {
   "cell_type": "markdown",
   "id": "edb732ef",
   "metadata": {},
   "source": [
    "# ajout d'un *bouton menu* des boutons sur l'interface graphique"
   ]
  },
  {
   "cell_type": "code",
   "execution_count": null,
   "id": "0f776487",
   "metadata": {},
   "outputs": [],
   "source": [
    "from tkinter import *\n",
    "window = Tk()\n",
    "window.title(\"Mon interface\")\n",
    "window.geometry(\"720x360\")\n",
    "window.minsize(480, 360)\n",
    "window.config(background='#86e2d5')\n",
    "mon_label1= Label(window, text=\"Bienvenu dans mon interface\", bg='#86e2d5',fg='black')\n",
    "mon_label2= Label(window, text=\"Mon nom est Abakar Mahamat Mallah\")\n",
    "mon_label1.grid(row=0, column=0)\n",
    "mon_label2.grid(row=1, column=0)\n",
    "boutons = Button(window, text=\"menu\", padx=40, pady=20, bg='#00e640')\n",
    "boutons.pack()\n",
    "window.mainloop()"
   ]
  },
  {
   "cell_type": "code",
   "execution_count": null,
   "id": "2aef17b2",
   "metadata": {},
   "outputs": [],
   "source": []
  }
 ],
 "metadata": {
  "kernelspec": {
   "display_name": "Python 3",
   "language": "python",
   "name": "python3"
  },
  "language_info": {
   "codemirror_mode": {
    "name": "ipython",
    "version": 3
   },
   "file_extension": ".py",
   "mimetype": "text/x-python",
   "name": "python",
   "nbconvert_exporter": "python",
   "pygments_lexer": "ipython3",
   "version": "3.8.8"
  }
 },
 "nbformat": 4,
 "nbformat_minor": 5
}
